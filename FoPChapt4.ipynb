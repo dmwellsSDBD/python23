{
 "cells": [
  {
   "cell_type": "code",
   "execution_count": 1,
   "id": "c157c271-6d65-49d6-b093-c85b9d9e3443",
   "metadata": {},
   "outputs": [],
   "source": [
    "s = \"Hi there!\""
   ]
  },
  {
   "cell_type": "code",
   "execution_count": 2,
   "id": "b34b9099-4343-45f9-b3fe-029125bd4c9d",
   "metadata": {},
   "outputs": [
    {
     "data": {
      "text/plain": [
       "9"
      ]
     },
     "execution_count": 2,
     "metadata": {},
     "output_type": "execute_result"
    }
   ],
   "source": [
    "len(s)"
   ]
  },
  {
   "cell_type": "code",
   "execution_count": 3,
   "id": "a4bc1039-7bf7-4b7a-900d-495759300c9c",
   "metadata": {},
   "outputs": [
    {
     "data": {
      "text/plain": [
       "' Hi there! '"
      ]
     },
     "execution_count": 3,
     "metadata": {},
     "output_type": "execute_result"
    }
   ],
   "source": [
    "s.center(11)"
   ]
  },
  {
   "cell_type": "code",
   "execution_count": 4,
   "id": "935a7533-14b9-4236-9372-bc2c87fa53b3",
   "metadata": {},
   "outputs": [
    {
     "data": {
      "text/plain": [
       "2"
      ]
     },
     "execution_count": 4,
     "metadata": {},
     "output_type": "execute_result"
    }
   ],
   "source": [
    "s.count('e')"
   ]
  },
  {
   "cell_type": "code",
   "execution_count": 5,
   "id": "0a9eb95d-48ae-4c38-b606-02d4a91e1158",
   "metadata": {},
   "outputs": [
    {
     "data": {
      "text/plain": [
       "True"
      ]
     },
     "execution_count": 5,
     "metadata": {},
     "output_type": "execute_result"
    }
   ],
   "source": [
    "s.endswith(\"there!\")"
   ]
  },
  {
   "cell_type": "code",
   "execution_count": 6,
   "id": "5b7e6bee-68de-4aa5-9576-70e398c991b0",
   "metadata": {},
   "outputs": [
    {
     "data": {
      "text/plain": [
       "True"
      ]
     },
     "execution_count": 6,
     "metadata": {},
     "output_type": "execute_result"
    }
   ],
   "source": [
    "s.startswith(\"Hi\")"
   ]
  },
  {
   "cell_type": "code",
   "execution_count": 7,
   "id": "c7b56930-c167-4399-ba66-525a809d8c6b",
   "metadata": {},
   "outputs": [
    {
     "data": {
      "text/plain": [
       "3"
      ]
     },
     "execution_count": 7,
     "metadata": {},
     "output_type": "execute_result"
    }
   ],
   "source": [
    "s.find(\"the\")"
   ]
  },
  {
   "cell_type": "code",
   "execution_count": 1,
   "id": "305ade3d-9482-40fb-8baf-13d5dafd59ac",
   "metadata": {},
   "outputs": [
    {
     "ename": "NameError",
     "evalue": "name 's' is not defined",
     "output_type": "error",
     "traceback": [
      "\u001b[0;31m---------------------------------------------------------------------------\u001b[0m",
      "\u001b[0;31mNameError\u001b[0m                                 Traceback (most recent call last)",
      "Cell \u001b[0;32mIn [1], line 1\u001b[0m\n\u001b[0;32m----> 1\u001b[0m \u001b[43ms\u001b[49m\u001b[38;5;241m.\u001b[39misalpha()\n",
      "\u001b[0;31mNameError\u001b[0m: name 's' is not defined"
     ]
    }
   ],
   "source": [
    "s.isalpha()"
   ]
  },
  {
   "cell_type": "code",
   "execution_count": 2,
   "id": "8911947c-cb4d-42e1-ad83-aa269cba4518",
   "metadata": {},
   "outputs": [],
   "source": [
    "s = \"Hi there!\""
   ]
  },
  {
   "cell_type": "code",
   "execution_count": 3,
   "id": "839ab3a6-66e0-4941-b666-7f392da011c0",
   "metadata": {},
   "outputs": [
    {
     "data": {
      "text/plain": [
       "<function str.isalpha()>"
      ]
     },
     "execution_count": 3,
     "metadata": {},
     "output_type": "execute_result"
    }
   ],
   "source": [
    "s.isalpha"
   ]
  },
  {
   "cell_type": "code",
   "execution_count": 4,
   "id": "09014db0-a2b7-465a-9921-50c9744d6d98",
   "metadata": {},
   "outputs": [
    {
     "data": {
      "text/plain": [
       "False"
      ]
     },
     "execution_count": 4,
     "metadata": {},
     "output_type": "execute_result"
    }
   ],
   "source": [
    "s.isalpha()"
   ]
  },
  {
   "cell_type": "code",
   "execution_count": 5,
   "id": "0cb6df3a-b172-44cf-946f-691166c23b7e",
   "metadata": {},
   "outputs": [],
   "source": [
    "s = 'abc'"
   ]
  },
  {
   "cell_type": "code",
   "execution_count": 6,
   "id": "34701d4e-d3fb-49b6-bc98-b8435814e601",
   "metadata": {},
   "outputs": [
    {
     "data": {
      "text/plain": [
       "True"
      ]
     },
     "execution_count": 6,
     "metadata": {},
     "output_type": "execute_result"
    }
   ],
   "source": [
    "s.isalpha()"
   ]
  },
  {
   "cell_type": "code",
   "execution_count": 7,
   "id": "ad758edf-09e2-4ab9-b449-038e59c1cfaf",
   "metadata": {},
   "outputs": [],
   "source": [
    "s = 326"
   ]
  },
  {
   "cell_type": "code",
   "execution_count": 8,
   "id": "23d3f532-74c8-46d5-a847-074ad865afe6",
   "metadata": {},
   "outputs": [
    {
     "ename": "AttributeError",
     "evalue": "'int' object has no attribute 'isdigit'",
     "output_type": "error",
     "traceback": [
      "\u001b[0;31m---------------------------------------------------------------------------\u001b[0m",
      "\u001b[0;31mAttributeError\u001b[0m                            Traceback (most recent call last)",
      "Cell \u001b[0;32mIn [8], line 1\u001b[0m\n\u001b[0;32m----> 1\u001b[0m \u001b[43ms\u001b[49m\u001b[38;5;241;43m.\u001b[39;49m\u001b[43misdigit\u001b[49m()\n",
      "\u001b[0;31mAttributeError\u001b[0m: 'int' object has no attribute 'isdigit'"
     ]
    }
   ],
   "source": [
    "s.isdigit()"
   ]
  },
  {
   "cell_type": "code",
   "execution_count": 9,
   "id": "0a92a59e-fbca-467f-b327-8795b98f1621",
   "metadata": {},
   "outputs": [],
   "source": [
    "s = \"326\""
   ]
  },
  {
   "cell_type": "code",
   "execution_count": 10,
   "id": "d7577882-92a6-46e9-b21b-cf07a52ab15d",
   "metadata": {},
   "outputs": [
    {
     "data": {
      "text/plain": [
       "True"
      ]
     },
     "execution_count": 10,
     "metadata": {},
     "output_type": "execute_result"
    }
   ],
   "source": [
    "s.isdigit()"
   ]
  },
  {
   "cell_type": "code",
   "execution_count": null,
   "id": "fb2fdfc5-3292-4417-9456-77bc52dc085d",
   "metadata": {},
   "outputs": [],
   "source": []
  }
 ],
 "metadata": {
  "kernelspec": {
   "display_name": "Python 3 (ipykernel)",
   "language": "python",
   "name": "python3"
  },
  "language_info": {
   "codemirror_mode": {
    "name": "ipython",
    "version": 3
   },
   "file_extension": ".py",
   "mimetype": "text/x-python",
   "name": "python",
   "nbconvert_exporter": "python",
   "pygments_lexer": "ipython3",
   "version": "3.10.7"
  }
 },
 "nbformat": 4,
 "nbformat_minor": 5
}
